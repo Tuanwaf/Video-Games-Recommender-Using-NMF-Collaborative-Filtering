{
 "cells": [
  {
   "cell_type": "code",
   "execution_count": 1,
   "id": "575e6df4",
   "metadata": {},
   "outputs": [],
   "source": [
    "import numpy as np\n",
    "import pandas as pd\n",
    "import scipy as sp\n",
    "from sklearn.decomposition import NMF\n",
    "from sklearn.metrics import mean_squared_error, mean_absolute_error\n",
    "from sklearn.preprocessing import MinMaxScaler"
   ]
  },
  {
   "cell_type": "code",
   "execution_count": null,
   "id": "f2ff8a78",
   "metadata": {},
   "outputs": [],
   "source": [
    "# Create pivot table for user-item ratings matrix\n",
    "def create_pivot_table(df):\n",
    "    pv = df.pivot_table(index=['user_id'], columns=['game_name'], values='rating')\n",
    "\n",
    "    # Normalize the ratings to ensure non-negative values for NMF\n",
    "    scaler = MinMaxScaler()  # Using MinMaxScaler to scale values between 0 and 1\n",
    "    pv_scaled = pd.DataFrame(scaler.fit_transform(pv.fillna(0)), columns=pv.columns, index=pv.index)\n",
    "\n",
    "    # Fill missing values with 0 (indicating no rating)\n",
    "    pv_scaled = pv_scaled.fillna(0)\n",
    "\n",
    "    # Convert the pivot table to a sparse matrix format (CSR format)\n",
    "    pv_sparse = sp.sparse.csr_matrix(pv_scaled.values)\n",
    "    \n",
    "    return pv_sparse, pv_scaled\n",
    "\n",
    "# Function to calculate RMSE\n",
    "def calculate_rmse(actual, predicted):\n",
    "    # Convert sparse matrix to dense\n",
    "    actual_dense = actual.toarray() if sp.sparse.issparse(actual) else actual\n",
    "    predicted_dense = predicted.toarray() if sp.sparse.issparse(predicted) else predicted\n",
    "    return np.sqrt(mean_squared_error(actual_dense, predicted_dense))\n",
    "\n",
    "# Function to calculate MAE\n",
    "def calculate_mae(actual, predicted):\n",
    "    # Convert sparse matrix to dense\n",
    "    actual_dense = actual.toarray() if sp.sparse.issparse(actual) else actual\n",
    "    predicted_dense = predicted.toarray() if sp.sparse.issparse(predicted) else predicted\n",
    "    return mean_absolute_error(actual_dense, predicted_dense)\n",
    "\n",
    "# Function to calculate Recall@k\n",
    "def recall_at_k(y_true, y_pred, k):\n",
    "    recall_scores = []\n",
    "    for true, pred in zip(y_true.toarray(), y_pred):  # Convert y_true to dense format\n",
    "        # Get top-k predictions\n",
    "        top_k_preds = np.argsort(pred)[::-1][:k]\n",
    "        relevant_items = np.where(true > 0)[0]  # assuming non-zero values are relevant items\n",
    "        # Calculate recall at k\n",
    "        recall = len(np.intersect1d(top_k_preds, relevant_items)) / len(relevant_items) if len(relevant_items) > 0 else 0\n",
    "        recall_scores.append(recall)\n",
    "    return np.mean(recall_scores)\n",
    "\n",
    "# Function to fit NMF model and evaluate metrics\n",
    "def nmf_model_evaluation(pv_sparse, n_components=450, max_iter=100, tol=1e-1, k=5):\n",
    "    # Initialize and fit NMF model\n",
    "    nmf_model = NMF(n_components=n_components, max_iter=max_iter, tol=tol, init='random', random_state=42)\n",
    "    nmf_matrix = nmf_model.fit_transform(pv_sparse)\n",
    "    predicted_ratings = np.dot(nmf_matrix, nmf_model.components_)\n",
    "\n",
    "    # Calculate RMSE, MAE\n",
    "    rmse = calculate_rmse(pv_sparse, predicted_ratings)\n",
    "    mae = calculate_mae(pv_sparse, predicted_ratings)\n",
    "    \n",
    "    # Evaluate Recall@k\n",
    "    recall_k = recall_at_k(pv_sparse, predicted_ratings, k)\n",
    "\n",
    "    return rmse, mae, recall_k, predicted_ratings"
   ]
  }
 ],
 "metadata": {
  "kernelspec": {
   "display_name": "Python 3 (ipykernel)",
   "language": "python",
   "name": "python3"
  },
  "language_info": {
   "codemirror_mode": {
    "name": "ipython",
    "version": 3
   },
   "file_extension": ".py",
   "mimetype": "text/x-python",
   "name": "python",
   "nbconvert_exporter": "python",
   "pygments_lexer": "ipython3",
   "version": "3.10.9"
  }
 },
 "nbformat": 4,
 "nbformat_minor": 5
}
