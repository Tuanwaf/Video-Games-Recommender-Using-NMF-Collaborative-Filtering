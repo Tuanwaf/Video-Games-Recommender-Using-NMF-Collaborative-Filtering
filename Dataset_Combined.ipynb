{
 "cells": [
  {
   "cell_type": "code",
   "execution_count": 1,
   "id": "6281803f",
   "metadata": {},
   "outputs": [
    {
     "name": "stdout",
     "output_type": "stream",
     "text": [
      "Unmatched games saved to ./unmatched_games.csv\n",
      "Final dataset saved to ./data/final_dataset.csv\n"
     ]
    }
   ],
   "source": [
    "import pandas as pd\n",
    "import re\n",
    "\n",
    "# Load the datasets\n",
    "cleaned_dataset_path = './data/Cleaned_Dataset.csv'\n",
    "steam_dataset_path = './data/steam.csv'\n",
    "\n",
    "df_cleaned = pd.read_csv(cleaned_dataset_path)\n",
    "df_steam = pd.read_csv(steam_dataset_path)\n",
    "\n",
    "# Normalize game names for better matching\n",
    "def normalize_name(name):\n",
    "    name = str(name).strip().lower()\n",
    "    name = re.sub(r'[^a-z0-9\\s]', '', name)  # Remove special characters like ™ or ™\n",
    "    name = name.replace(':', '')\n",
    "    return name\n",
    "\n",
    "df_cleaned['normalized_game_name'] = df_cleaned['game_name'].apply(normalize_name)\n",
    "df_steam['normalized_name'] = df_steam['name'].apply(normalize_name)\n",
    "\n",
    "# Merge datasets on normalized names\n",
    "df_merged = df_cleaned.merge(df_steam, how='left', left_on='normalized_game_name', right_on='normalized_name')\n",
    "\n",
    "# Filter rows where no match was found\n",
    "unmatched_games = df_merged[df_merged['appid'].isna()]\n",
    "unmatched_game_list = unmatched_games['game_name'].unique()\n",
    "\n",
    "# Save unmatched games to a file\n",
    "unmatched_games_path = './data/unmatched_games.csv'\n",
    "pd.DataFrame(unmatched_game_list, columns=['Unmatched Game Name']).to_csv(unmatched_games_path, index=False)\n",
    "\n",
    "# Select final columns for the merged dataset\n",
    "final_columns = ['user_id', 'game_name', 'name', 'appid', 'genres', 'price', 'rating']\n",
    "df_final = df_merged[final_columns]\n",
    "\n",
    "# Save the final dataset\n",
    "final_dataset_path = './data/final_dataset.csv'\n",
    "df_final.to_csv(final_dataset_path, index=False)\n",
    "\n",
    "print(f\"Unmatched games saved to {unmatched_games_path}\")\n",
    "print(f\"Final dataset saved to {final_dataset_path}\")"
   ]
  },
  {
   "cell_type": "code",
   "execution_count": 2,
   "id": "1bcd67fc",
   "metadata": {},
   "outputs": [
    {
     "data": {
      "text/plain": [
       "(user_id      0\n",
       " game_name    0\n",
       " name         0\n",
       " appid        0\n",
       " genres       0\n",
       " price        0\n",
       " rating       0\n",
       " dtype: int64,\n",
       " 0)"
      ]
     },
     "execution_count": 2,
     "metadata": {},
     "output_type": "execute_result"
    }
   ],
   "source": [
    "# Check for missing values and duplicates\n",
    "df_final.isnull().sum(), df_cleaned.duplicated().sum()"
   ]
  },
  {
   "cell_type": "code",
   "execution_count": 3,
   "id": "32b083fe",
   "metadata": {},
   "outputs": [
    {
     "name": "stdout",
     "output_type": "stream",
     "text": [
      "Missing values in the added columns:\n",
      "header_image        0\n",
      "background          0\n",
      "movies          31068\n",
      "dtype: int64\n",
      "Handling missing values...\n",
      "Missing values have been handled.\n",
      "Combined dataset saved to ./data/combined_final_dataset.csv\n"
     ]
    }
   ],
   "source": [
    "import pandas as pd\n",
    "\n",
    "# Load the datasets\n",
    "final_dataset_path = './data/final_dataset.csv'\n",
    "steam_media_data_path = './data/steam_media_data.csv'\n",
    "\n",
    "df_final = pd.read_csv(final_dataset_path)\n",
    "df_steam_media = pd.read_csv(steam_media_data_path, low_memory=False)\n",
    "\n",
    "# Normalize the appid columns to numeric\n",
    "df_final['appid'] = pd.to_numeric(df_final['appid'], errors='coerce')\n",
    "df_steam_media['steam_appid'] = pd.to_numeric(df_steam_media['steam_appid'], errors='coerce')\n",
    "\n",
    "# Rename steam_appid to appid for consistency\n",
    "df_steam_media.rename(columns={'steam_appid': 'appid'}, inplace=True)\n",
    "\n",
    "# Merge the datasets based on appid\n",
    "df_combined = df_final.merge(df_steam_media[['appid', 'header_image', 'background', 'movies']], how='left', on='appid')\n",
    "\n",
    "# Check for missing values in the added columns\n",
    "missing_values = df_combined[['header_image', 'background', 'movies']].isna().sum()\n",
    "print(\"Missing values in the added columns:\")\n",
    "print(missing_values)\n",
    "\n",
    "# Handle missing values (example: fill with placeholders or drop rows with nulls)\n",
    "if missing_values.any():\n",
    "    print(\"Handling missing values...\")\n",
    "    df_combined.fillna({'header_image': 'no_image_available', \n",
    "                        'background': 'no_background_available', \n",
    "                        'movies': 'no_movies_available'}, inplace=True)\n",
    "    print(\"Missing values have been handled.\")\n",
    "\n",
    "# Save the combined dataset\n",
    "combined_dataset_path = './data/combined_final_dataset.csv'\n",
    "df_combined.to_csv(combined_dataset_path, index=False)\n",
    "\n",
    "print(f\"Combined dataset saved to {combined_dataset_path}\")"
   ]
  },
  {
   "cell_type": "code",
   "execution_count": 4,
   "id": "f5e843d6",
   "metadata": {},
   "outputs": [
    {
     "name": "stdout",
     "output_type": "stream",
     "text": [
      "Missing values in the 'short_description' column: 0\n",
      "Combined dataset saved to ./data/combined_final_dataset.csv\n"
     ]
    }
   ],
   "source": [
    "import pandas as pd\n",
    "\n",
    "# Load the datasets\n",
    "final_dataset_path = './data/combined_final_dataset.csv'\n",
    "steam_description_data_path = './data/steam_description_data.csv'\n",
    "\n",
    "df_final = pd.read_csv(final_dataset_path)\n",
    "df_steam_description = pd.read_csv(steam_description_data_path, low_memory=False)\n",
    "\n",
    "# Normalize the appid columns to numeric\n",
    "df_final['appid'] = pd.to_numeric(df_final['appid'], errors='coerce')\n",
    "df_steam_description['steam_appid'] = pd.to_numeric(df_steam_description['steam_appid'], errors='coerce')\n",
    "\n",
    "# Rename steam_appid to appid for consistency\n",
    "df_steam_description.rename(columns={'steam_appid': 'appid'}, inplace=True)\n",
    "\n",
    "# Merge the datasets based on appid\n",
    "df_combined = df_final.merge(df_steam_description[['appid', 'short_description']], how='left', on='appid')\n",
    "\n",
    "# Check for missing values in the short_description column\n",
    "missing_values = df_combined['short_description'].isna().sum()\n",
    "print(f\"Missing values in the 'short_description' column: {missing_values}\")\n",
    "\n",
    "# Handle missing values (example: fill with placeholders or drop rows with nulls)\n",
    "if missing_values > 0:\n",
    "    print(\"Handling missing values...\")\n",
    "    df_combined['short_description'].fillna('No description available', inplace=True)\n",
    "    print(\"Missing values in 'short_description' have been handled.\")\n",
    "\n",
    "# Save the combined dataset\n",
    "combined_dataset_path = './data/combined_final_dataset.csv'\n",
    "df_combined.to_csv(combined_dataset_path, index=False)\n",
    "\n",
    "print(f\"Combined dataset saved to {combined_dataset_path}\")"
   ]
  },
  {
   "cell_type": "code",
   "execution_count": null,
   "id": "37df83a7",
   "metadata": {},
   "outputs": [],
   "source": []
  }
 ],
 "metadata": {
  "kernelspec": {
   "display_name": "Python 3 (ipykernel)",
   "language": "python",
   "name": "python3"
  },
  "language_info": {
   "codemirror_mode": {
    "name": "ipython",
    "version": 3
   },
   "file_extension": ".py",
   "mimetype": "text/x-python",
   "name": "python",
   "nbconvert_exporter": "python",
   "pygments_lexer": "ipython3",
   "version": "3.10.9"
  }
 },
 "nbformat": 4,
 "nbformat_minor": 5
}
