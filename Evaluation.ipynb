{
 "cells": [
  {
   "cell_type": "code",
   "execution_count": 1,
   "id": "368e3e8c",
   "metadata": {
    "scrolled": true
   },
   "outputs": [
    {
     "name": "stdout",
     "output_type": "stream",
     "text": [
      "\n",
      "Active user's ratings for the selected games:\n",
      "   Game                   Rating\n",
      "1)        Worms Reloaded  4     \n",
      "2)          Brtal Legend  4     \n",
      "3)         Killing Floor  5     \n",
      "4)  Kerbal Space Program  5     \n",
      "5)              PAYDAY 2  5     \n",
      "\n",
      "Evaluation Metrics for Different Recommendation Sizes:\n",
      " Top K     RMSE      MAE  Recall@K\n",
      "     5 0.023963 0.005549  0.872697\n",
      "    10 0.023963 0.005549  0.933066\n",
      "    15 0.023963 0.005549  0.955234\n"
     ]
    }
   ],
   "source": [
    "import numpy as np\n",
    "import pandas as pd\n",
    "import nbimporter\n",
    "from sklearn.preprocessing import MinMaxScaler\n",
    "from scipy.sparse import csr_matrix\n",
    "from NMF_Model import *"
   ]
  },
  {
   "cell_type": "code",
   "execution_count": null,
   "id": "4bddb877",
   "metadata": {},
   "outputs": [],
   "source": [
    "# Load or define the original df (user-item ratings matrix)\n",
    "df = pd.read_csv('./data/combined_final_dataset.csv')  # Adjust this path to where your data is stored\n",
    "\n",
    "# Create pivot table for user-item ratings matrix\n",
    "pv_sparse, pv = create_pivot_table(df)\n",
    "\n",
    "# Simulate some random games for the active user (this could come from user input)\n",
    "random_games = np.random.choice(pv.columns, 5, replace=False)\n",
    "\n",
    "# Simulate new user ratings for these random games (active user's ratings)\n",
    "new_user_ratings = {\n",
    "    'game_name': random_games.tolist(),  # Randomly selected games from the user-item matrix\n",
    "    'rating': [4, 4, 5, 5, 5]  # Ratings given by the active user\n",
    "}\n",
    "\n",
    "# Print the selected games for the active user to rate in a table format\n",
    "print(\"\\nActive user's ratings for the selected games:\")\n",
    "new_user_df = pd.DataFrame(new_user_ratings)\n",
    "new_user_df.index = [f\"{i + 1})\" for i in range(len(new_user_df))]\n",
    "new_user_df.columns = [\"Game\", \"Rating\"]\n",
    "print(new_user_df.to_string(index=True, col_space=0, justify='left', header=True))\n",
    "\n",
    "# Add the new user's ratings to the user-item matrix (pv)\n",
    "new_user_id = 'new_user'  # We will use a unique ID for the new user\n",
    "new_user_df['user_id'] = new_user_id\n",
    "\n",
    "# Append the new ratings to the existing dataset\n",
    "df_with_new_user = pd.concat([df, new_user_df[['user_id', 'Game', 'Rating']].rename(columns={\"Game\": \"game_name\", \n",
    "                                                                                             \"Rating\": \"rating\"})])\n",
    "\n",
    "# Recreate the user-item matrix including the new user\n",
    "pv_with_new_user = df_with_new_user.pivot_table(index=['user_id'], columns=['game_name'], values='rating')\n",
    "\n",
    "# Normalize the ratings to ensure non-negative values for NMF\n",
    "scaler = MinMaxScaler()  # Using MinMaxScaler to scale values between 0 and 1\n",
    "pv_scaled_with_new_user = pd.DataFrame(scaler.fit_transform(pv_with_new_user.fillna(0)), \n",
    "                                       columns=pv_with_new_user.columns, index=pv_with_new_user.index)\n",
    "\n",
    "# Fill missing values with 0 (indicating no rating)\n",
    "pv_scaled_with_new_user = pv_scaled_with_new_user.fillna(0)\n",
    "\n",
    "# Convert the pivot table to a sparse matrix format (CSR format)\n",
    "pv_sparse_with_new_user = csr_matrix(pv_scaled_with_new_user.values)\n",
    "\n",
    "# Evaluate NMF model for different recommendation sizes\n",
    "results = []\n",
    "for k in [5, 10, 15]:\n",
    "    rmse, mae, recall_k, predicted_ratings = nmf_model_evaluation(pv_sparse_with_new_user, k=k)\n",
    "    results.append([k, rmse, mae, recall_k])\n",
    "\n",
    "# Convert results to a DataFrame and display in table format\n",
    "results_df = pd.DataFrame(results, columns=[\"Top K\", \"RMSE\", \"MAE\", \"Recall@K\"])\n",
    "print(\"\\nEvaluation Metrics for Different Recommendation Sizes:\")\n",
    "print(results_df.to_string(index=False))"
   ]
  }
 ],
 "metadata": {
  "kernelspec": {
   "display_name": "Python 3 (ipykernel)",
   "language": "python",
   "name": "python3"
  },
  "language_info": {
   "codemirror_mode": {
    "name": "ipython",
    "version": 3
   },
   "file_extension": ".py",
   "mimetype": "text/x-python",
   "name": "python",
   "nbconvert_exporter": "python",
   "pygments_lexer": "ipython3",
   "version": "3.10.9"
  }
 },
 "nbformat": 4,
 "nbformat_minor": 5
}
